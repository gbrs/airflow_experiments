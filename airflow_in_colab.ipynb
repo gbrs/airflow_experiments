{
 "cells": [
  {
   "cell_type": "markdown",
   "metadata": {
    "id": "OT-zqQFX-Rdz"
   },
   "source": [
    "Бэклог:   \n",
    "- [ ] код из второй статьи запустить\n",
    "- [ ] как копировать файл с дагом в airflow?"
   ]
  },
  {
   "cell_type": "markdown",
   "metadata": {
    "id": "-442qjhsv0Pr"
   },
   "source": [
    "Код из статей:\n",
    "- [Как запустить Apache AirFlow в Google Colab с ngrok](https://bigdataschool.ru/blog/how-to-launch-airflow-on-colab-with-ngrok.html)\n",
    "- [Как запустить DAG AirFlow в Google Colab: простой пример](https://bigdataschool.ru/blog/how-to-run-user-dag-airflow-in-colab-with-ngrok.html)"
   ]
  },
  {
   "cell_type": "code",
   "execution_count": null,
   "metadata": {
    "id": "T0TAUxwdLMMK"
   },
   "outputs": [],
   "source": []
  },
  {
   "cell_type": "markdown",
   "metadata": {
    "id": "MpEvILM2LMzp"
   },
   "source": [
    "## Как запустить Apache AirFlow в Google Colab с ngrok"
   ]
  },
  {
   "cell_type": "code",
   "execution_count": null,
   "metadata": {
    "colab": {
     "base_uri": "https://localhost:8080/"
    },
    "id": "1mYt0WzsvsEI",
    "outputId": "b5c3bcd7-ced9-4adb-dcd2-aefdd56dc005"
   },
   "outputs": [],
   "source": [
    "#Установка Apache Airflow и инициализация базы данных\n",
    "!pip install apache-airflow\n",
    "!airflow db init\n",
    "## initdb - было так в оригинале, но пишет об ошибке и замене команды\n",
    "\n",
    "#Установка инструмента ngrok для создания безопасного туннеля\n",
    "#для доступа к веб-интерфейсу Airflow из любого места\n",
    "!wget https://bin.equinox.io/c/4VmDzA7iaHb/ngrok-stable-linux-amd64.zip\n",
    "!unzip ngrok-stable-linux-amd64.zip\n",
    "!pip install pyngrok\n",
    "\n",
    "#импорт модулей\n",
    "from pyngrok import ngrok\n",
    "import sys\n",
    "import os\n",
    "import datetime\n",
    "from airflow import DAG\n",
    "from airflow.operators.bash import BashOperator\n",
    "\n",
    "## подсоединяемся к гугл-диску\n",
    "from google.colab import drive\n",
    "drive.mount('/content/drive')\n",
    "os.makedirs('/content/airflow/dags', exist_ok=True)\n",
    "dags_folder = os.path.join(os.path.expanduser(\"~\"), \"airflow\", \"dags\")\n",
    "os.makedirs(dags_folder, exist_ok=True)"
   ]
  },
  {
   "cell_type": "code",
   "execution_count": null,
   "metadata": {
    "id": "t6fw7IYo5fKk"
   },
   "outputs": [],
   "source": []
  },
  {
   "cell_type": "code",
   "execution_count": null,
   "metadata": {
    "colab": {
     "base_uri": "https://localhost:8080/"
    },
    "id": "8eecZ9eBveof",
    "outputId": "b220fb0b-f51f-4015-c6a4-620dae4589b4"
   },
   "outputs": [],
   "source": [
    "#Задание переменной auth_token для аутентификации в сервисе ngrok.\n",
    "auth_token = \"2WhKx82LS1maMJ2dMagXgh9ipsb_3fcJGdvLkWMHihaHRpLju\" #@param {type:\"string\"}\n",
    "# Since we can't access Colab notebooks IP directly we'll use\n",
    "# ngrok to create a public URL for the server via a tunnel\n",
    "# Authenticate ngrok\n",
    "# https://dashboard.ngrok.com/signup\n",
    "# Then go to the \"Your Authtoken\" tab in the sidebar\n",
    "# and copy the API key\n",
    "#Аутентификация в сервисе ngrok с помощью auth_token\n",
    "os.system(f\"ngrok authtoken {auth_token}\")\n",
    "#Запуск ngrok, который создаст публичный URL для сервера через туннель\n",
    "#для доступа к веб-интерфейсу Airflow из любого места.\n",
    "#addr=\"8888\" указывает на порт, на котором запущен веб-сервер Airflow,\n",
    "#а proto=\"http\" указывает на использование протокола HTTP\n",
    "public_url = ngrok.connect(addr=\"8888\", proto=\"http\")\n",
    "#Вывод публичного URL для доступа к веб-интерфейсу Airflow\n",
    "print(\"Адрес Airflow GUI:\", public_url)"
   ]
  },
  {
   "cell_type": "code",
   "execution_count": null,
   "metadata": {
    "id": "CwtmMqxS5keR"
   },
   "outputs": [],
   "source": [
    "## выше адрес вида https://2890-34-69-125-71.ngrok-free.app,\n",
    "## по которому  зайдем в веб-интерфейс Apache AirFlow"
   ]
  },
  {
   "cell_type": "code",
   "execution_count": null,
   "metadata": {
    "id": "JSlKZxPmzyMV"
   },
   "outputs": [],
   "source": []
  },
  {
   "cell_type": "code",
   "execution_count": null,
   "metadata": {
    "colab": {
     "base_uri": "https://localhost:8080/"
    },
    "id": "Se9BIgCmygiZ",
    "outputId": "96c40be4-18d1-4736-c4ca-31d39ffc296f"
   },
   "outputs": [],
   "source": [
    "!airflow db init #Инициализация базы данных Airflow  ## это же было в первой ячейке\n",
    "!airflow db upgrade #Обновление базы данных Airflow\n",
    "## !airflow upgradedb - в оригинале было, но ворнинги требуют новый синтаксис\n",
    "#Создание нового пользователя в Apache Airflow с именем пользователя anna, именем Anna, фамилией Anna, адресом электронной почты anna.doe@example.com и паролем password.\n",
    "#Этот пользователь будет иметь роль Admin, которая дает полный доступ к интерфейсу Airflow.\n",
    "!airflow users create --username anna --firstname Anna --lastname Anna --email anna.doe@example.com --role Admin --password password"
   ]
  },
  {
   "cell_type": "code",
   "execution_count": null,
   "metadata": {
    "colab": {
     "base_uri": "https://localhost:8080/"
    },
    "id": "kGnfPTDAygfa",
    "outputId": "e9445057-6c0c-45dd-c9bb-cd56dd1dcc98"
   },
   "outputs": [],
   "source": [
    "#запуск веб-сервера Apache Airflow на порту 8888. Веб-сервер Airflow предоставляет пользовательский интерфейс\n",
    "#для управления DAG’ами,\n",
    "#просмотра логов выполнения задач, мониторинга прогресса выполнения\n",
    "!airflow webserver --port 8888"
   ]
  },
  {
   "cell_type": "code",
   "execution_count": null,
   "metadata": {
    "id": "w77fnCEDygcj"
   },
   "outputs": [],
   "source": [
    "## Теперь можно войти в веб-интерфейс Apache AirFlow,\n",
    "## по ссылке, ранее сгенерированной утилитой ngrok.\n",
    "## Надо ввести логин и пароль пользователя, созданного ранее: anna, password"
   ]
  },
  {
   "cell_type": "code",
   "execution_count": null,
   "metadata": {},
   "outputs": [],
   "source": []
  },
  {
   "cell_type": "code",
   "execution_count": null,
   "metadata": {
    "colab": {
     "base_uri": "https://localhost:8080/"
    },
    "id": "L_WrUFf_N8iB",
    "outputId": "5dc9cff2-01e5-4f0c-c07c-1ca5953fb927"
   },
   "outputs": [],
   "source": [
    "## По завершении работы с веб-интерфейсом AirFlow надо освободить занятый порт\n",
    "!pkill -f ngrok #поиск и завершение процесса, который запущен с помощью команды ngrok\n",
    "# отключение публичного URL, созданного с помощью ngrok для веб-сервера Airflow\n",
    "ngrok.disconnect(public_url=public_url)"
   ]
  },
  {
   "cell_type": "code",
   "execution_count": null,
   "metadata": {
    "id": "TlSr8bU0N9M2"
   },
   "outputs": [],
   "source": []
  },
  {
   "cell_type": "markdown",
   "metadata": {
    "id": "06vCLYEIPTVP"
   },
   "source": [
    "-------------"
   ]
  },
  {
   "cell_type": "markdown",
   "metadata": {
    "id": "SjX0-Q0CLFHN"
   },
   "source": [
    "## Как запустить DAG AirFlow в Google Colab: простой пример"
   ]
  },
  {
   "cell_type": "code",
   "execution_count": null,
   "metadata": {
    "colab": {
     "base_uri": "https://localhost:8080/"
    },
    "id": "gBDnM-9pN9EF",
    "outputId": "7610ade6-ce11-4be7-c891-0ed538ebf9f1"
   },
   "outputs": [],
   "source": [
    "#Установка Apache Airflow и инициализация базы данных.\n",
    "!pip install apache-airflow\n",
    "## !airflow init  ## еще будет в следующей ячейке\n",
    "## initdb - было так в оригинале, но пишет об ошибке и замене команды\n",
    "\n",
    "#Установка инструмента ngrok для создания безопасного туннеля для доступа к веб-интерфейсу Airflow из любого места\n",
    "!wget https://bin.equinox.io/c/4VmDzA7iaHb/ngrok-stable-linux-amd64.zip\n",
    "!unzip ngrok-stable-linux-amd64.zip\n",
    "!pip install pyngrok\n",
    "\n",
    "## !pip install sqlalchemy\n",
    "## установка ругается на конфликт со старой версией алхимии\n",
    "## но отдельная установка в лоб не проходит: уже установлено\n",
    "\n",
    "#импорт модулей\n",
    "from pyngrok import ngrok\n",
    "import sys\n",
    "import os\n",
    "import datetime\n",
    "from airflow import DAG\n",
    "from airflow.operators.bash import BashOperator\n",
    "\n",
    "## свой dag будем хранить на гугл-драйв\n",
    "from google.colab import drive\n",
    "drive.mount('/content/drive')\n",
    "os.makedirs('/content/airflow/dags', exist_ok=True)\n",
    "dags_folder = os.path.join(os.path.expanduser(\"~\"), \"airflow\", \"dags\")\n",
    "os.makedirs(dags_folder, exist_ok=True)"
   ]
  },
  {
   "cell_type": "code",
   "execution_count": null,
   "metadata": {
    "colab": {
     "base_uri": "https://localhost:8080/"
    },
    "id": "41JvmeY0N8_e",
    "outputId": "94ac3196-cda8-425e-b2b1-ce0c77d0ca7c"
   },
   "outputs": [],
   "source": [
    "#Задание переменной auth_token для аутентификации в сервисе ngrok.\n",
    "auth_token = \"2WhKx82LS1maMJ2dMagXgh9ipsb_3fcJGdvLkWMHihaHRpLju\"\n",
    "# Since we can't access Colab notebooks IP directly we'll use\n",
    "# ngrok to create a public URL for the server via a tunnel\n",
    "# Authenticate ngrok\n",
    "# https://dashboard.ngrok.com/signup\n",
    "# Then go to the \"Your Authtoken\" tab in the sidebar and copy the API key\n",
    "#Аутентификация в сервисе ngrok с помощью auth_token\n",
    "os.system(f\"ngrok authtoken {auth_token}\")\n",
    "#Запуск ngrok, который создаст публичный URL для сервера через туннель\n",
    "#для доступа к веб-интерфейсу Airflow из любого места.\n",
    "#addr=\"8888\" указывает на порт, на котором запущен веб-сервер Airflow, \n",
    "#а proto=\"http\" указывает на использование протокола HTTP\n",
    "public_url = ngrok.connect(addr=\"8888\", proto=\"http\")\n",
    "#Вывод публичного URL для доступа к веб-интерфейсу Airflow"
   ]
  },
  {
   "cell_type": "code",
   "execution_count": null,
   "metadata": {
    "id": "21jC76AApDvG"
   },
   "outputs": [],
   "source": [
    "## ip для входа чуть выше в формате типа https://ec27-34-86-112-48.ngrok-free.app"
   ]
  },
  {
   "cell_type": "code",
   "execution_count": null,
   "metadata": {
    "colab": {
     "base_uri": "https://localhost:8080/"
    },
    "id": "rEtCHLCrN84l",
    "outputId": "ac8704ce-a7fb-4527-d63b-230af14f0049"
   },
   "outputs": [],
   "source": [
    "!airflow db init #Инициализация базы данных Airflow\n",
    "## это же было в первой ячейке\n",
    "## но без этого не подгружаются примеры?\n",
    "\n",
    "!airflow db upgrade #Обновление базы данных Airflow\n",
    "## !airflow upgradedb - в оригинале было, но ворнинги требуют новый синтаксис\n",
    "\n",
    "#Создание нового пользователя в Apache Airflow\n",
    "#Этот пользователь будет иметь роль Admin, которая дает полный доступ к интерфейсу Airflow.\n",
    "!airflow users create --username boris --firstname Boris --lastname Yu --email gbrs@example.com --role Admin --password password"
   ]
  },
  {
   "cell_type": "code",
   "execution_count": null,
   "metadata": {
    "id": "Q2OCE-BEN8xC"
   },
   "outputs": [],
   "source": [
    "## копируем файл с дагом в airflow\n",
    "!cp /content/airflow/dags/BORIS_DAG_SaveFile.py ~/airflow/dags/BORIS_DAG_SaveFile.py\n",
    "## ?\n",
    "!airflow dags unpause BORIS_DAG_SaveFile"
   ]
  },
  {
   "cell_type": "code",
   "execution_count": null,
   "metadata": {
    "colab": {
     "base_uri": "https://localhost:8080/"
    },
    "id": "ZuWcD_Y-N8pf",
    "outputId": "752861e5-8f2d-4989-e016-6447d1782f61"
   },
   "outputs": [],
   "source": [
    "## запуск веб-сервера Airflow на порту 8888 в фоновом режиме (daemon mode)\n",
    "!airflow webserver --port 8888 --daemon"
   ]
  },
  {
   "cell_type": "code",
   "execution_count": null,
   "metadata": {
    "colab": {
     "base_uri": "https://localhost:8080/"
    },
    "id": "bIxcLKHiN8lV",
    "outputId": "b402ae3b-2bb8-413b-e485-6232536d10fa"
   },
   "outputs": [],
   "source": [
    "## запустить планировщик AirFlow\n",
    "!airflow scheduler --daemon"
   ]
  },
  {
   "cell_type": "code",
   "execution_count": null,
   "metadata": {},
   "outputs": [],
   "source": [
    "print(\"Адрес Airflow GUI:\", public_url)"
   ]
  },
  {
   "cell_type": "markdown",
   "metadata": {
    "id": "LX6u2TDFIAaR"
   },
   "source": [
    "можно открыть веб-браузер и перейти на страницу URL-адреса выше (полученного ранее с помощью утилиты ngrok, которая перебрасывает локальный хост http://localhost:8888 на внешний URL-адрес).  \n",
    "Теперь можно войти в веб-интерфейс Apache AirFlow, используя логин и пароль ранее созданного пользователя."
   ]
  },
  {
   "cell_type": "code",
   "execution_count": null,
   "metadata": {
    "id": "2LKsdgFiIAaR"
   },
   "outputs": [],
   "source": []
  },
  {
   "cell_type": "code",
   "execution_count": null,
   "metadata": {
    "colab": {
     "base_uri": "https://localhost:8080/"
    },
    "id": "L_WrUFf_N8iB",
    "outputId": "5dc9cff2-01e5-4f0c-c07c-1ca5953fb927"
   },
   "outputs": [],
   "source": [
    "## По завершении работы с веб-интерфейсом AirFlow надо освободить занятый порт\n",
    "!pkill -f ngrok #поиск и завершение процесса, который запущен с помощью команды ngrok\n",
    "# отключение публичного URL, созданного с помощью ngrok для веб-сервера Airflow\n",
    "ngrok.disconnect(public_url=public_url)"
   ]
  },
  {
   "cell_type": "code",
   "execution_count": null,
   "metadata": {
    "id": "JYZCR6J-N8UB"
   },
   "outputs": [],
   "source": []
  },
  {
   "cell_type": "code",
   "execution_count": null,
   "metadata": {
    "id": "9kONYFiJN8I-"
   },
   "outputs": [],
   "source": []
  },
  {
   "cell_type": "code",
   "execution_count": null,
   "metadata": {
    "id": "RSVfNSvYygTL"
   },
   "outputs": [],
   "source": []
  },
  {
   "cell_type": "code",
   "execution_count": null,
   "metadata": {
    "id": "wmmApaQSygHt"
   },
   "outputs": [],
   "source": []
  }
 ],
 "metadata": {
  "colab": {
   "provenance": [],
   "toc_visible": true
  },
  "kernelspec": {
   "display_name": "Python 3 (ipykernel)",
   "language": "python",
   "name": "python3"
  },
  "language_info": {
   "codemirror_mode": {
    "name": "ipython",
    "version": 3
   },
   "file_extension": ".py",
   "mimetype": "text/x-python",
   "name": "python",
   "nbconvert_exporter": "python",
   "pygments_lexer": "ipython3",
   "version": "3.7.16"
  }
 },
 "nbformat": 4,
 "nbformat_minor": 4
}
